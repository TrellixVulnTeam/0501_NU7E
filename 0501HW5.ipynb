{
 "cells": [
  {
   "cell_type": "code",
   "execution_count": 10,
   "metadata": {},
   "outputs": [
    {
     "name": "stdout",
     "output_type": "stream",
     "text": [
      "請輸入要選擇+-x/運算\n",
      "*\n",
      "請輸入數字1\n",
      "7\n",
      "請輸入數字2\n",
      "8\n",
      "56\n"
     ]
    }
   ],
   "source": [
    "print(\"請輸入要選擇+-x/運算\")\n",
    "x = input()\n",
    "print(\"請輸入數字1\")\n",
    "y = input()\n",
    "print(\"請輸入數字2\")\n",
    "z = input()\n",
    "y = eval(y)\n",
    "z = eval(z)\n",
    "def add():\n",
    "    print(y+z)\n",
    "def less():\n",
    "    print(y-z)\n",
    "def mul():\n",
    "    print(y*z)\n",
    "def div():\n",
    "    print(y/z)\n",
    "if x == \"+\":\n",
    "    add()\n",
    "elif x == \"-\":\n",
    "    less()\n",
    "elif x == \"*\":\n",
    "    mul()\n",
    "elif x == \"/\":\n",
    "    div()\n",
    "    "
   ]
  },
  {
   "cell_type": "code",
   "execution_count": null,
   "metadata": {},
   "outputs": [],
   "source": []
  }
 ],
 "metadata": {
  "kernelspec": {
   "display_name": "Python 3",
   "language": "python",
   "name": "python3"
  },
  "language_info": {
   "codemirror_mode": {
    "name": "ipython",
    "version": 3
   },
   "file_extension": ".py",
   "mimetype": "text/x-python",
   "name": "python",
   "nbconvert_exporter": "python",
   "pygments_lexer": "ipython3",
   "version": "3.7.3"
  }
 },
 "nbformat": 4,
 "nbformat_minor": 2
}
